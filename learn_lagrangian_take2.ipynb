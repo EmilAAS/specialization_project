{
 "cells": [
  {
   "cell_type": "code",
   "execution_count": null,
   "id": "ce22a514-2703-4527-a447-e46feb2f806c",
   "metadata": {},
   "outputs": [
    {
     "name": "stdout",
     "output_type": "stream",
     "text": [
      "Lagrange Kernel K_T(x, u): 2.069204152535761\n"
     ]
    }
   ],
   "source": [
    "import numpy as np\n",
    "\n",
    "def rbf_kernel(x, u, sigma):\n",
    "    \"\"\"RBF kernel.\"\"\"\n",
    "    dist_sq = (x[0] - u[0])**2 + (x[1] - u[1])**2\n",
    "    return np.exp(-dist_sq / (2 * sigma**2))\n",
    "\n",
    "def first_time_derivative(x, u, sigma, kernel):\n",
    "    \"\"\"First time derivative: d/dt (partial derivative wrt dq).\"\"\"\n",
    "    dqdot_dt = -1 / sigma**2  # Assume linear change in dq over time\n",
    "    d_partial_dq = -((x[1] - u[1]) * kernel / sigma**2)\n",
    "    return dqdot_dt * d_partial_dq\n",
    "\n",
    "def second_time_derivative(x, u, sigma, kernel):\n",
    "    \"\"\"Second time derivative: d^2/dt^2 (partial derivative wrt dq^2).\"\"\"\n",
    "    dqdot_dt = -1 / sigma**2  # Assume linear change in dq over time\n",
    "    second_term = kernel * (1 / sigma**4)\n",
    "    return dqdot_dt**2 * second_term\n",
    "\n",
    "def lagrange_kernel(x, u, sigma):\n",
    "    \"\"\"Lagrange kernel K_T(x, u).\"\"\"\n",
    "    kernel = rbf_kernel(x, u, sigma)\n",
    "    \n",
    "    # First term: -second partial derivative wrt q^2\n",
    "    term1 = -kernel * (-1 / sigma**2 + (x[0] - u[0])**2 / sigma**4)\n",
    "    \n",
    "    # Second term: First time derivative\n",
    "    term2 = first_time_derivative(x, u, sigma, kernel)\n",
    "    \n",
    "    # Third term: Second time derivative\n",
    "    term3 = second_time_derivative(x, u, sigma, kernel)\n",
    "    \n",
    "    return term1 + term2 + term3\n",
    "\n",
    "k_t = lagrange_kernel(x, u, sigma)\n",
    "print(\"Lagrange Kernel K_T(x, u):\", k_t)\n"
   ]
  }
 ],
 "metadata": {
  "kernelspec": {
   "display_name": "Python 3 (ipykernel)",
   "language": "python",
   "name": "python3"
  },
  "language_info": {
   "codemirror_mode": {
    "name": "ipython",
    "version": 3
   },
   "file_extension": ".py",
   "mimetype": "text/x-python",
   "name": "python",
   "nbconvert_exporter": "python",
   "pygments_lexer": "ipython3",
   "version": "3.11.9"
  }
 },
 "nbformat": 4,
 "nbformat_minor": 5
}
