{
 "cells": [
  {
   "cell_type": "code",
   "execution_count": 11,
   "id": "3448cb0a-2d31-4379-a496-f0d268840047",
   "metadata": {},
   "outputs": [
    {
     "name": "stdout",
     "output_type": "stream",
     "text": [
      "Optimization terminated successfully.\n",
      "         Current function value: 0.000000\n",
      "         Iterations: 16\n",
      "         Function evaluations: 105\n",
      "         Gradient evaluations: 35\n",
      "Optimized alpha: [0.00117459 0.00117612]\n"
     ]
    }
   ],
   "source": [
    "import numpy as np\n",
    "from scipy.optimize import minimize\n",
    "\n",
    "# Parameters for the toy system\n",
    "k = 1.0  # Spring constant\n",
    "m = 1.0  # Mass\n",
    "h = 0.1  # Time step\n",
    "\n",
    "# Generate toy data\n",
    "def true_trajectory(q0, dq0, steps):\n",
    "    trajectory = []\n",
    "    q, dq = q0, dq0\n",
    "    for _ in range(steps):\n",
    "        ddq = -(k / m) * q  # Harmonic oscillator dynamics\n",
    "        trajectory.append((q, dq))\n",
    "        dq += ddq * h\n",
    "        q += dq * h\n",
    "    return trajectory\n",
    "\n",
    "# Euler-Lagrange residuals for the discretized system\n",
    "def discrete_lagrangian(q1, q2, h, alpha):\n",
    "    q_mid = (q1 + q2) / 2\n",
    "    dq = (q2 - q1) / h\n",
    "    # Approximating Lagrangian as a polynomial: L = alpha[0]*q^2 + alpha[1]*dq^2\n",
    "    return alpha[0] * q_mid**2 + alpha[1] * dq**2\n",
    "\n",
    "def del_residual(q1, q2, q3, h, alpha):\n",
    "    Ld1 = discrete_lagrangian(q1, q2, h, alpha)\n",
    "    Ld2 = discrete_lagrangian(q2, q3, h, alpha)\n",
    "    return (Ld2 - Ld1) ** 2  # Residual square\n",
    "\n",
    "# Loss function to minimize residuals\n",
    "def loss_function(alpha, trajectory, h, lam=1e-3):\n",
    "    loss = 0\n",
    "    for i in range(len(trajectory) - 2):\n",
    "        q1, q2, q3 = trajectory[i][0], trajectory[i+1][0], trajectory[i+2][0]\n",
    "        loss += del_residual(q1, q2, q3, h, alpha)\n",
    "    # Regularization to avoid large alphas\n",
    "    loss += lam * np.sum(alpha**2)\n",
    "    return loss\n",
    "\n",
    "# Generate a simple trajectory\n",
    "trajectory = true_trajectory(q0=1.0, dq0=0.0, steps=50)\n",
    "\n",
    "# Initial guess for Lagrangian coefficients\n",
    "alpha_init = np.array([100, 100])  # Start with a guess\n",
    "\n",
    "# Minimize residuals\n",
    "result = minimize(\n",
    "    loss_function,\n",
    "    alpha_init,\n",
    "    args=(trajectory, h),\n",
    "    method='CG',\n",
    "    options={'disp': True}\n",
    ")\n",
    "\n",
    "print(\"Optimized alpha:\", result.x)\n"
   ]
  }
 ],
 "metadata": {
  "kernelspec": {
   "display_name": "Python 3 (ipykernel)",
   "language": "python",
   "name": "python3"
  },
  "language_info": {
   "codemirror_mode": {
    "name": "ipython",
    "version": 3
   },
   "file_extension": ".py",
   "mimetype": "text/x-python",
   "name": "python",
   "nbconvert_exporter": "python",
   "pygments_lexer": "ipython3",
   "version": "3.11.9"
  }
 },
 "nbformat": 4,
 "nbformat_minor": 5
}
